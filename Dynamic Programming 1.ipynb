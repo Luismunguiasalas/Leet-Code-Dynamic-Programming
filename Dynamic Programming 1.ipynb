{
 "cells": [
  {
   "cell_type": "code",
   "execution_count": null,
   "metadata": {},
   "outputs": [],
   "source": [
    "# 509. Fibonacci Number\n",
    "# The Fibonacci numbers, commonly denoted F(n) form a sequence, called the Fibonacci sequence, such that each number is the sum of the two preceding ones, starting from 0 and 1. That is,\n",
    "# F(0) = 0, F(1) = 1\n",
    "# F(n) = F(n - 1) + F(n - 2), for n > 1.\n",
    "\n",
    "\n",
    "# iteratve solution\n",
    "\n",
    "class Solution:\n",
    "    def fib(self, n: int) -> int:\n",
    "      # n must be greater than 0\n",
    "        if n > 0:\n",
    "          # track current, and 2 previous numbers\n",
    "            curr = 1\n",
    "            prev1 = 0\n",
    "            prev2 = 1\n",
    "            # iterate n - 1 to get current to total the sum of the two preceding integers\n",
    "            for i in range(n - 1):\n",
    "                curr = prev1 + prev2\n",
    "                prev1 = prev2\n",
    "                prev2 = curr\n",
    "            return curr\n",
    "        return 0\n",
    "# time O(n), space O(1)\n",
    "# runtime: 57ms, beats 51%\n",
    "# memory: 13MB , beats 39%\n",
    "\n",
    "# Dynamic programming solution: Memoization\n",
    "\n",
    "class Solution:\n",
    "    def fib(self, n: int) -> int:\n",
    "      # store calculated values in cache for n\n",
    "      cache = {0:0, 1:1}\n",
    "      # if n exists in cache, return calculated value i.e., n = n-1 + n-2\n",
    "      if n in self.cache:\n",
    "        return self.cache[n]\n",
    "      else:\n",
    "        # if n doesn't exist in cache, calculate n = n-1 + n-2 for n and store in cache with key = n and value = n - 1 + n - 2\n",
    "        self.cache[n] = self.fib(n-1) + self.fib(n-2)\n",
    "      # return value i.e., n - 1 + n - 2 at n\n",
    "        return self.cache[n]\n",
    "      \n",
    "# time O(N), space(N)\n",
    "# runtime: 2053ms, beats 10%\n",
    "# memory: 13MB, beats 53%\n",
    "\n",
    "\n",
    "# math solution\n",
    "\n",
    "class Solution:\n",
    "    def fib(self, n: int) -> int:\n",
    "      golden_ratio = (1 + (5 ** .5)) / 2\n",
    "      total = int(round((golden_ratio ** n) / (5 ** .5)))\n",
    "      return total\n",
    "  \n",
    "\n",
    "# time O(log(N), space(1)\n",
    "# runtime: 43ms, beats 79%\n",
    "# memory: 13MB, beats 53%\n",
    "        "
   ]
  }
 ],
 "metadata": {
  "kernelspec": {
   "display_name": "base",
   "language": "python",
   "name": "python3"
  },
  "language_info": {
   "name": "python",
   "version": "3.9.13 (main, Aug 25 2022, 18:29:29) \n[Clang 12.0.0 ]"
  },
  "orig_nbformat": 4,
  "vscode": {
   "interpreter": {
    "hash": "40d3a090f54c6569ab1632332b64b2c03c39dcf918b08424e98f38b5ae0af88f"
   }
  }
 },
 "nbformat": 4,
 "nbformat_minor": 2
}
